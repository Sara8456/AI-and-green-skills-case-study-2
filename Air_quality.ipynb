{
  "nbformat": 4,
  "nbformat_minor": 0,
  "metadata": {
    "colab": {
      "provenance": []
    },
    "kernelspec": {
      "name": "python3",
      "display_name": "Python 3"
    },
    "language_info": {
      "name": "python"
    }
  },
  "cells": [
    {
      "cell_type": "code",
      "execution_count": 1,
      "metadata": {
        "colab": {
          "base_uri": "https://localhost:8080/",
          "height": 578
        },
        "id": "wZJYvG9dk6GV",
        "outputId": "a3dd9c31-aa79-4aff-f34f-1dee64132d55"
      },
      "outputs": [
        {
          "output_type": "stream",
          "name": "stdout",
          "text": [
            "MAE: 68.5549151414144\n",
            "RMSE: 78.79798394618857\n",
            "R2 Score: -0.09982363614165224\n"
          ]
        },
        {
          "output_type": "display_data",
          "data": {
            "text/plain": [
              "<Figure size 800x600 with 1 Axes>"
            ],
            "image/png": "[encoded data removed]"
          },
          "metadata": {}
        }
      ],
      "source": [
        "# -*- coding: utf-8 -*-\n",
        "\"\"\"Another copy of Untitled4.ipynb\n",
        "\n",
        "Automatically generated by Colab.\n",
        "\n",
        "Original file is located at\n",
        "    https://colab.research.google.com/drive/1cC9fjpVLZHsi8SXtUUhGHCRYh7hyQNq9\n",
        "\"\"\"\n",
        "\n",
        "import pandas as pd\n",
        "import numpy as np\n",
        "import matplotlib.pyplot as plt\n",
        "import seaborn as sns\n",
        "from sklearn.model_selection import train_test_split\n",
        "from sklearn.ensemble import RandomForestRegressor\n",
        "from sklearn.metrics import mean_absolute_error, mean_squared_error, r2_score\n",
        "\n",
        "# Generate synthetic dataset\n",
        "data = {\n",
        "    'PM2.5': np.random.uniform(10, 200, 1000),\n",
        "    'PM10': np.random.uniform(20, 300, 1000),\n",
        "    'NO2': np.random.uniform(5, 150, 1000),\n",
        "    'CO': np.random.uniform(0.1, 5, 1000),\n",
        "    'Traffic Volume': np.random.uniform(500, 5000, 1000),\n",
        "    'Temperature': np.random.uniform(10, 40, 1000),\n",
        "    'Humidity': np.random.uniform(20, 90, 1000),\n",
        "    'Wind Speed': np.random.uniform(0, 15, 1000),\n",
        "    'AQI': np.random.uniform(50, 300, 1000)\n",
        "}\n",
        "\n",
        "# Create DataFrame\n",
        "df = pd.DataFrame(data)\n",
        "\n",
        "# Save to CSV\n",
        "df.to_csv('/content/air_quality_data (4).csv', index=False)\n",
        "\n",
        "# Load dataset\n",
        "df = pd.read_csv('/content/air_quality_data (4).csv')\n",
        "\n",
        "# Split data into features and target\n",
        "X = df.drop(columns=['AQI'])\n",
        "y = df['AQI']\n",
        "\n",
        "# Split into training and testing sets\n",
        "X_train, X_test, y_train, y_test = train_test_split(X, y, test_size=0.2, random_state=42)\n",
        "\n",
        "# Train model\n",
        "model = RandomForestRegressor(n_estimators=100, random_state=42)\n",
        "model.fit(X_train, y_train)\n",
        "\n",
        "# Predict on test data\n",
        "y_pred = model.predict(X_test)\n",
        "\n",
        "# Evaluate model\n",
        "mae = mean_absolute_error(y_test, y_pred)\n",
        "mse = mean_squared_error(y_test, y_pred)\n",
        "rmse = np.sqrt(mse)\n",
        "r2 = r2_score(y_test, y_pred)\n",
        "\n",
        "# Print evaluation metrics\n",
        "print(f'MAE: {mae}')\n",
        "print(f'RMSE: {rmse}')\n",
        "print(f'R2 Score: {r2}')\n",
        "\n",
        "# Box plot for AQI distribution\n",
        "plt.figure(figsize=(8, 6))\n",
        "sns.boxplot(y=df['AQI'])\n",
        "plt.title('Box Plot of AQI Values')\n",
        "plt.ylabel('AQI')\n",
        "plt.show()"
      ]
    }
  ]
}